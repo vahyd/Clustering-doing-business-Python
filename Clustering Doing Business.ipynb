{
 "cells": [
  {
   "cell_type": "code",
   "execution_count": 3,
   "metadata": {},
   "outputs": [
    {
     "name": "stdout",
     "output_type": "stream",
     "text": [
      "11\tAfrica Development Indicators\n",
      "36\tStatistical Capacity Indicators\n",
      "31\tCountry Policy and Institutional Assessment\n",
      "41\tCountry Partnership Strategy for India (FY2013 - 17)\n",
      "1 \tDoing Business\n",
      "30\tExporter Dynamics Database ��� Indicators at Country-Year Level\n",
      "12\tEducation Statistics\n",
      "60\tEconomic Fitness\n",
      "13\tEnterprise Surveys\n",
      "28\tGlobal Financial Inclusion\n",
      "33\tG20 Financial Inclusion Indicators\n",
      "14\tGender Statistics\n",
      "15\tGlobal Economic Monitor\n",
      "27\tGlobal Economic Prospects\n",
      "32\tGlobal Financial Development\n",
      "34\tGlobal Partnership for Education\n",
      "29\tThe Atlas of Social Protection: Indicators of Resilience and Equity\n",
      "16\tHealth Nutrition and Population Statistics\n",
      "39\tHealth Nutrition and Population Statistics by Wealth Quintile\n",
      "40\tPopulation estimates and projections\n",
      "18\tIDA Results Measurement System\n",
      "45\tIndonesia Database for Policy and Economic Research\n",
      "6 \tInternational Debt Statistics\n",
      "54\tJoint External Debt Hub\n",
      "25\tJobs\n",
      "37\tLAC Equity Lab\n",
      "19\tMillennium Development Goals\n",
      "24\tPoverty and Equity\n",
      "61\tPPPs Regulatory Quality\n",
      "20\tQuarterly Public Sector Debt\n",
      "23\tQuarterly External Debt Statistics GDDS\n",
      "22\tQuarterly External Debt Statistics SDDS\n",
      "44\tReadiness for Investment in Sustainable Energy\n",
      "46\tSustainable Development Goals \n",
      "35\tSustainable Energy for All\n",
      "5 \tSubnational Malnutrition Database\n",
      "38\tSubnational Poverty\n",
      "50\tSubnational Population\n",
      "58\tUniversal Health Coverage\n",
      "59\tWealth Accounts\n",
      "43\tAdjusted Net Savings\n",
      "57\tWDI Database Archives\n",
      "2 \tWorld Development Indicators\n",
      "3 \tWorldwide Governance Indicators\n",
      "IC.WRH.PROC            \tProcedures to build a warehouse (number)\n",
      "IC.WRH.DURS            \tTime required to build a warehouse (days)\n",
      "IC.TAX.TOTL.CP.ZS      \tTotal tax rate (% of commercial profits)\n",
      "IC.TAX.PRFT.CP.ZS      \tProfit tax (% of commercial profits)\n",
      "IC.TAX.PFI             \tPostfiling index (0-100)\n",
      "IC.TAX.PAYM            \tTax payments (number)\n",
      "IC.TAX.OTHR.CP.ZS      \tOther taxes payable by businesses (% of commercial profits)\n",
      "IC.TAX.LABR.CP.ZS      \tLabor tax and contributions (% of commercial profits)\n",
      "IC.TAX.DURS            \tTime to prepare and pay taxes (hours)\n",
      "IC.RP.QLAI             \tQuality of the land administration index (0-30)\n",
      "IC.RP.COST             \tCost to register property (% of property value)\n",
      "IC.REG.PROC.WOMEN      \tProcedures required to start a business - Women (number)\n",
      "IC.REG.PROC            \tStart-up procedures to register a business (number)\n",
      "IC.REG.DURS.WOMEN      \tTime required to start a business - Women (days)\n",
      "IC.REG.DURS            \tTime required to start a business (days)\n",
      "IC.REG.COST.PC.ZS.WOMEN\tCost ��� Women (% of income per capita)\n",
      "IC.REG.COST.PC.ZS      \tCost of business start-up procedures (% of GNI per capita)\n",
      "IC.REG.CAP             \tMinimum paid-in capital required to start a business (% of income per capita)\n",
      "IC.PRP.PROC            \tProcedures to register property (number)\n",
      "IC.PRP.DURS            \tTime required to register property (days)\n",
      "IC.PI.SR               \tExtent of shareholder rights index (0-10.5)\n",
      "IC.PI.SOGS             \tStrength of governance structure index (0-10.5)\n",
      "IC.PI.SHAR             \tEase of shareholder suits index (0 to 10) \n",
      "IC.PI.SG               \tExtent of shareholder governance index (0-10)\n",
      "IC.PI.INV              \tStrength of investor protection index (0 to 10)\n",
      "IC.PI.DIR              \tExtent of director liability index (0 to 10)\n",
      "IC.PI.CT               \tExtent of corporate transparency index (0-9)\n",
      "IC.PI.CIR              \tExtent of conflict of interest regulation index (0-10)\n",
      "IC.LGL.PROC            \tProcedures to enforce a contract (number)\n",
      "IC.LGL.DURS            \tTime required to enforce a contract (days)\n",
      "IC.LGL.CRED.XQ         \tStrength of legal rights index (0=weak to 12=strong)\n",
      "IC.ISV.SOIF            \tStrength of insolvency framework index (0-16)\n",
      "IC.ISV.RECRT           \tResolving insolvency: recovery rate (cents on the dollar)\n",
      "IC.ISV.OTCM            \tOutcome (0 as piecemeal sale and 1 as going concern)\n",
      "IC.ISV.DURS            \tTime to resolve insolvency (years)\n",
      "IC.ISV.CPI             \tCreditor participation index (0-4)\n",
      "IC.ISV.COST            \tResolving insolvency: cost (% of estate)\n",
      "IC.GE.RSTTI            \tReliability of supply and transparency of tariff index (0-8)\n",
      "IC.GE.NUM              \tProcedures required to connect to electricity (number)\n",
      "IC.GE.COST             \tCost to get electricity(% of income per capita)\n",
      "IC.EXP.TIME.IMP.DOC    \tTime to import: Documentary compliance (hours)\n",
      "IC.EXP.TIME.IMP        \tTrade: Time to import (days)\n",
      "IC.EXP.TIME.EXP.DOC    \tTime to export: Documentary compliance (hours)\n",
      "IC.EXP.TIME.EXP        \tTrade: Time to export (day)\n",
      "IC.EXP.COST.IMP.DOC    \tCost to import: Documentary compliance (USD)\n",
      "IC.EXP.COST.IMP.DEF    \tCost to import (deflated US$ per container)\n",
      "IC.EXP.COST.IMP        \tTrade: Cost to import (US$ per container)\n",
      "IC.EXP.COST.EXP.DOC    \tCost to export: Documentary compliance (USD)\n",
      "IC.EXP.COST.EXP        \tTrade: Cost to export (US$ per container)\n",
      "IC.ELC.TIME            \tTime required to get electricity (days)\n",
      "IC.EC.QJPI             \tQuality of judicial processes index (0-18)\n",
      "IC.EC.COST             \tCost to enforce a contract (% of claim) \n",
      "IC.DCP.COST            \tCost to build a warehouse (% of income per capita)\n",
      "IC.DCP.BQCI            \tBuilding quality control index (0-15)\n",
      "IC.CRD.PUBL.ZS         \tPublic credit registry coverage (% of adults)\n",
      "IC.CRD.PRVT.ZS         \tPrivate credit bureau coverage (% of adults)\n",
      "IC.CRD.INFO.XQ         \tDepth of credit information index (0=low to 8=high)\n",
      "IC.BUS.EASE.XQ         \tEase of doing business index (1=most business-friendly regulations)\n",
      "IC.BUS.DISC.XQ         \tBusiness extent of disclosure index (0=less disclosure to 10=more disclosure)\n"
     ]
    },
    {
     "ename": "NameError",
     "evalue": "name 'USA' is not defined",
     "output_type": "error",
     "traceback": [
      "\u001b[1;31m---------------------------------------------------------------------------\u001b[0m",
      "\u001b[1;31mNameError\u001b[0m                                 Traceback (most recent call last)",
      "\u001b[1;32m<ipython-input-3-f3ab3a2763f5>\u001b[0m in \u001b[0;36m<module>\u001b[1;34m()\u001b[0m\n\u001b[0;32m      2\u001b[0m \u001b[0mwbdata\u001b[0m\u001b[1;33m.\u001b[0m\u001b[0mget_source\u001b[0m\u001b[1;33m(\u001b[0m\u001b[1;33m)\u001b[0m\u001b[1;33m\u001b[0m\u001b[0m\n\u001b[0;32m      3\u001b[0m \u001b[0mwbdata\u001b[0m\u001b[1;33m.\u001b[0m\u001b[0mget_indicator\u001b[0m\u001b[1;33m(\u001b[0m\u001b[0msource\u001b[0m\u001b[1;33m=\u001b[0m\u001b[1;36m1\u001b[0m\u001b[1;33m)\u001b[0m\u001b[1;33m\u001b[0m\u001b[0m\n\u001b[1;32m----> 4\u001b[1;33m \u001b[0mwbdata\u001b[0m\u001b[1;33m.\u001b[0m\u001b[0mget_data\u001b[0m\u001b[1;33m(\u001b[0m\u001b[1;34m\"IC.BUS.EASE.XQ\"\u001b[0m\u001b[1;33m,\u001b[0m \u001b[0mcountry\u001b[0m\u001b[1;33m=\u001b[0m\u001b[0mUSA\u001b[0m\u001b[1;33m)\u001b[0m\u001b[1;33m\u001b[0m\u001b[0m\n\u001b[0m\u001b[0;32m      5\u001b[0m \u001b[0mdata_date\u001b[0m \u001b[1;33m=\u001b[0m \u001b[1;33m(\u001b[0m\u001b[0mdatetime\u001b[0m\u001b[1;33m.\u001b[0m\u001b[0mdatetime\u001b[0m\u001b[1;33m(\u001b[0m\u001b[1;36m2010\u001b[0m\u001b[1;33m,\u001b[0m \u001b[1;36m1\u001b[0m\u001b[1;33m,\u001b[0m \u001b[1;36m1\u001b[0m\u001b[1;33m)\u001b[0m\u001b[1;33m,\u001b[0m \u001b[0mdatetime\u001b[0m\u001b[1;33m.\u001b[0m\u001b[0mdatetime\u001b[0m\u001b[1;33m(\u001b[0m\u001b[1;36m2011\u001b[0m\u001b[1;33m,\u001b[0m \u001b[1;36m1\u001b[0m\u001b[1;33m,\u001b[0m \u001b[1;36m1\u001b[0m\u001b[1;33m)\u001b[0m\u001b[1;33m)\u001b[0m\u001b[1;33m\u001b[0m\u001b[0m\n\u001b[0;32m      6\u001b[0m \u001b[0mwbdata\u001b[0m\u001b[1;33m.\u001b[0m\u001b[0mget_data\u001b[0m\u001b[1;33m(\u001b[0m\u001b[1;34m\"IC.BUS.EASE.XQ\"\u001b[0m\u001b[1;33m,\u001b[0m \u001b[0mcountry\u001b[0m\u001b[1;33m=\u001b[0m\u001b[1;33m(\u001b[0m\u001b[1;34m\"USA\"\u001b[0m\u001b[1;33m,\u001b[0m \u001b[1;34m\"GBR\"\u001b[0m\u001b[1;33m)\u001b[0m\u001b[1;33m,\u001b[0m \u001b[0mdata_date\u001b[0m\u001b[1;33m=\u001b[0m\u001b[0mdata_date\u001b[0m\u001b[1;33m)\u001b[0m\u001b[1;33m\u001b[0m\u001b[0m\n",
      "\u001b[1;31mNameError\u001b[0m: name 'USA' is not defined"
     ]
    }
   ],
   "source": [
    "import wbdata\n",
    "wbdata.get_source()\n",
    "wbdata.get_indicator(source=1)\n",
    "wbdata.get_data(\"IC.BUS.EASE.XQ\", country=USA)\n",
    "data_date = (datetime.datetime(2010, 1, 1), datetime.datetime(2011, 1, 1))\n",
    "wbdata.get_data(\"IC.BUS.EASE.XQ\", country=(\"USA\", \"GBR\"), data_date=data_date)\n",
    "wbdata.search_indicators(\"gdp per capita\")\n"
   ]
  },
  {
   "cell_type": "code",
   "execution_count": 4,
   "metadata": {},
   "outputs": [
    {
     "name": "stdout",
     "output_type": "stream",
     "text": [
      "IC.WRH.PROC            \tProcedures to build a warehouse (number)\n",
      "IC.WRH.DURS            \tTime required to build a warehouse (days)\n",
      "IC.TAX.TOTL.CP.ZS      \tTotal tax rate (% of commercial profits)\n",
      "IC.TAX.PRFT.CP.ZS      \tProfit tax (% of commercial profits)\n",
      "IC.TAX.PFI             \tPostfiling index (0-100)\n",
      "IC.TAX.PAYM            \tTax payments (number)\n",
      "IC.TAX.OTHR.CP.ZS      \tOther taxes payable by businesses (% of commercial profits)\n",
      "IC.TAX.LABR.CP.ZS      \tLabor tax and contributions (% of commercial profits)\n",
      "IC.TAX.DURS            \tTime to prepare and pay taxes (hours)\n",
      "IC.RP.QLAI             \tQuality of the land administration index (0-30)\n",
      "IC.RP.COST             \tCost to register property (% of property value)\n",
      "IC.REG.PROC.WOMEN      \tProcedures required to start a business - Women (number)\n",
      "IC.REG.PROC            \tStart-up procedures to register a business (number)\n",
      "IC.REG.DURS.WOMEN      \tTime required to start a business - Women (days)\n",
      "IC.REG.DURS            \tTime required to start a business (days)\n",
      "IC.REG.COST.PC.ZS.WOMEN\tCost ��� Women (% of income per capita)\n",
      "IC.REG.COST.PC.ZS      \tCost of business start-up procedures (% of GNI per capita)\n",
      "IC.REG.CAP             \tMinimum paid-in capital required to start a business (% of income per capita)\n",
      "IC.PRP.PROC            \tProcedures to register property (number)\n",
      "IC.PRP.DURS            \tTime required to register property (days)\n",
      "IC.PI.SR               \tExtent of shareholder rights index (0-10.5)\n",
      "IC.PI.SOGS             \tStrength of governance structure index (0-10.5)\n",
      "IC.PI.SHAR             \tEase of shareholder suits index (0 to 10) \n",
      "IC.PI.SG               \tExtent of shareholder governance index (0-10)\n",
      "IC.PI.INV              \tStrength of investor protection index (0 to 10)\n",
      "IC.PI.DIR              \tExtent of director liability index (0 to 10)\n",
      "IC.PI.CT               \tExtent of corporate transparency index (0-9)\n",
      "IC.PI.CIR              \tExtent of conflict of interest regulation index (0-10)\n",
      "IC.LGL.PROC            \tProcedures to enforce a contract (number)\n",
      "IC.LGL.DURS            \tTime required to enforce a contract (days)\n",
      "IC.LGL.CRED.XQ         \tStrength of legal rights index (0=weak to 12=strong)\n",
      "IC.ISV.SOIF            \tStrength of insolvency framework index (0-16)\n",
      "IC.ISV.RECRT           \tResolving insolvency: recovery rate (cents on the dollar)\n",
      "IC.ISV.OTCM            \tOutcome (0 as piecemeal sale and 1 as going concern)\n",
      "IC.ISV.DURS            \tTime to resolve insolvency (years)\n",
      "IC.ISV.CPI             \tCreditor participation index (0-4)\n",
      "IC.ISV.COST            \tResolving insolvency: cost (% of estate)\n",
      "IC.GE.RSTTI            \tReliability of supply and transparency of tariff index (0-8)\n",
      "IC.GE.NUM              \tProcedures required to connect to electricity (number)\n",
      "IC.GE.COST             \tCost to get electricity(% of income per capita)\n",
      "IC.EXP.TIME.IMP.DOC    \tTime to import: Documentary compliance (hours)\n",
      "IC.EXP.TIME.IMP        \tTrade: Time to import (days)\n",
      "IC.EXP.TIME.EXP.DOC    \tTime to export: Documentary compliance (hours)\n",
      "IC.EXP.TIME.EXP        \tTrade: Time to export (day)\n",
      "IC.EXP.COST.IMP.DOC    \tCost to import: Documentary compliance (USD)\n",
      "IC.EXP.COST.IMP.DEF    \tCost to import (deflated US$ per container)\n",
      "IC.EXP.COST.IMP        \tTrade: Cost to import (US$ per container)\n",
      "IC.EXP.COST.EXP.DOC    \tCost to export: Documentary compliance (USD)\n",
      "IC.EXP.COST.EXP        \tTrade: Cost to export (US$ per container)\n",
      "IC.ELC.TIME            \tTime required to get electricity (days)\n",
      "IC.EC.QJPI             \tQuality of judicial processes index (0-18)\n",
      "IC.EC.COST             \tCost to enforce a contract (% of claim) \n",
      "IC.DCP.COST            \tCost to build a warehouse (% of income per capita)\n",
      "IC.DCP.BQCI            \tBuilding quality control index (0-15)\n",
      "IC.CRD.PUBL.ZS         \tPublic credit registry coverage (% of adults)\n",
      "IC.CRD.PRVT.ZS         \tPrivate credit bureau coverage (% of adults)\n",
      "IC.CRD.INFO.XQ         \tDepth of credit information index (0=low to 8=high)\n",
      "IC.BUS.EASE.XQ         \tEase of doing business index (1=most business-friendly regulations)\n",
      "IC.BUS.DISC.XQ         \tBusiness extent of disclosure index (0=less disclosure to 10=more disclosure)\n"
     ]
    }
   ],
   "source": [
    "wbdata.get_indicator(source=1)"
   ]
  },
  {
   "cell_type": "code",
   "execution_count": 91,
   "metadata": {},
   "outputs": [
    {
     "name": "stdout",
     "output_type": "stream",
     "text": [
      "HIC\tHigh income\n",
      "INX\tNot classified\n",
      "LIC\tLow income\n",
      "LMC\tLower middle income\n",
      "LMY\tLow & middle income\n",
      "MIC\tMiddle income\n",
      "UMC\tUpper middle income\n"
     ]
    }
   ],
   "source": [
    "wbdata.get_incomelevel()"
   ]
  },
  {
   "cell_type": "code",
   "execution_count": 6,
   "metadata": {},
   "outputs": [
    {
     "name": "stdout",
     "output_type": "stream",
     "text": [
      "                                           cost_to_register_property  \\\n",
      "country                        date                                    \n",
      "Afghanistan                    2017-01-01                        5.0   \n",
      "Albania                        2017-01-01                        9.6   \n",
      "Algeria                        2017-01-01                        7.1   \n",
      "Angola                         2017-01-01                        2.9   \n",
      "Argentina                      2017-01-01                        6.6   \n",
      "Armenia                        2017-01-01                        0.2   \n",
      "Azerbaijan                     2017-01-01                        0.2   \n",
      "Bangladesh                     2017-01-01                        6.9   \n",
      "Belarus                        2017-01-01                        0.0   \n",
      "Belize                         2017-01-01                        4.8   \n",
      "Benin                          2017-01-01                        3.5   \n",
      "Bhutan                         2017-01-01                        5.0   \n",
      "Bolivia                        2017-01-01                        4.7   \n",
      "Bosnia and Herzegovina         2017-01-01                        5.2   \n",
      "Botswana                       2017-01-01                        5.1   \n",
      "Brazil                         2017-01-01                        3.2   \n",
      "Bulgaria                       2017-01-01                        2.9   \n",
      "Burkina Faso                   2017-01-01                       12.0   \n",
      "Burundi                        2017-01-01                        3.1   \n",
      "Cambodia                       2017-01-01                        4.3   \n",
      "Cameroon                       2017-01-01                       19.0   \n",
      "Central African Republic       2017-01-01                       11.0   \n",
      "Chad                           2017-01-01                       12.9   \n",
      "China                          2017-01-01                        3.4   \n",
      "Colombia                       2017-01-01                        1.9   \n",
      "Comoros                        2017-01-01                        8.1   \n",
      "Congo, Dem. Rep.               2017-01-01                       11.1   \n",
      "Congo, Rep.                    2017-01-01                       16.1   \n",
      "Costa Rica                     2017-01-01                        3.4   \n",
      "Cote d'Ivoire                  2017-01-01                        7.4   \n",
      "...                                                              ...   \n",
      "Serbia                         2017-01-01                        2.8   \n",
      "Sierra Leone                   2017-01-01                       10.8   \n",
      "Solomon Islands                2017-01-01                        4.7   \n",
      "Somalia                        2017-01-01                        1.6   \n",
      "South Africa                   2017-01-01                        7.6   \n",
      "South Sudan                    2017-01-01                       14.9   \n",
      "Sri Lanka                      2017-01-01                        5.1   \n",
      "St. Lucia                      2017-01-01                        7.6   \n",
      "St. Vincent and the Grenadines 2017-01-01                       11.8   \n",
      "Sudan                          2017-01-01                        2.6   \n",
      "Suriname                       2017-01-01                       13.7   \n",
      "Swaziland                      2017-01-01                        7.1   \n",
      "Syrian Arab Republic           2017-01-01                       28.0   \n",
      "Tajikistan                     2017-01-01                        3.1   \n",
      "Tanzania                       2017-01-01                        5.2   \n",
      "Thailand                       2017-01-01                        7.3   \n",
      "Togo                           2017-01-01                        9.1   \n",
      "Tonga                          2017-01-01                       15.1   \n",
      "Tunisia                        2017-01-01                        6.1   \n",
      "Turkey                         2017-01-01                        3.0   \n",
      "Uganda                         2017-01-01                        3.1   \n",
      "Ukraine                        2017-01-01                        1.8   \n",
      "Uzbekistan                     2017-01-01                        1.2   \n",
      "Vanuatu                        2017-01-01                        7.0   \n",
      "Venezuela, RB                  2017-01-01                        2.7   \n",
      "Vietnam                        2017-01-01                        0.6   \n",
      "West Bank and Gaza             2017-01-01                        3.0   \n",
      "Yemen, Rep.                    2017-01-01                        1.8   \n",
      "Zambia                         2017-01-01                        9.9   \n",
      "Zimbabwe                       2017-01-01                        7.6   \n",
      "\n",
      "                                           const_of_business_startup_procedures  \\\n",
      "country                        date                                               \n",
      "Afghanistan                    2017-01-01                                  82.3   \n",
      "Albania                        2017-01-01                                  12.0   \n",
      "Algeria                        2017-01-01                                  11.1   \n",
      "Angola                         2017-01-01                                  17.4   \n",
      "Argentina                      2017-01-01                                  10.4   \n",
      "Armenia                        2017-01-01                                   0.9   \n",
      "Azerbaijan                     2017-01-01                                   1.8   \n",
      "Bangladesh                     2017-01-01                                  22.3   \n",
      "Belarus                        2017-01-01                                   0.6   \n",
      "Belize                         2017-01-01                                  34.6   \n",
      "Benin                          2017-01-01                                   3.7   \n",
      "Bhutan                         2017-01-01                                   3.9   \n",
      "Bolivia                        2017-01-01                                  54.0   \n",
      "Bosnia and Herzegovina         2017-01-01                                   7.7   \n",
      "Botswana                       2017-01-01                                   0.7   \n",
      "Brazil                         2017-01-01                                   5.0   \n",
      "Bulgaria                       2017-01-01                                   1.2   \n",
      "Burkina Faso                   2017-01-01                                  42.6   \n",
      "Burundi                        2017-01-01                                  33.9   \n",
      "Cambodia                       2017-01-01                                  51.3   \n",
      "Cameroon                       2017-01-01                                  35.8   \n",
      "Central African Republic       2017-01-01                                 154.7   \n",
      "Chad                           2017-01-01                                 171.3   \n",
      "China                          2017-01-01                                   0.6   \n",
      "Colombia                       2017-01-01                                  14.0   \n",
      "Comoros                        2017-01-01                                  84.1   \n",
      "Congo, Dem. Rep.               2017-01-01                                  28.6   \n",
      "Congo, Rep.                    2017-01-01                                  77.7   \n",
      "Costa Rica                     2017-01-01                                   8.5   \n",
      "Cote d'Ivoire                  2017-01-01                                  16.5   \n",
      "...                                                                         ...   \n",
      "Serbia                         2017-01-01                                   2.3   \n",
      "Sierra Leone                   2017-01-01                                  36.2   \n",
      "Solomon Islands                2017-01-01                                  28.9   \n",
      "Somalia                        2017-01-01                                 203.6   \n",
      "South Africa                   2017-01-01                                   0.2   \n",
      "South Sudan                    2017-01-01                                 305.0   \n",
      "Sri Lanka                      2017-01-01                                  10.4   \n",
      "St. Lucia                      2017-01-01                                  21.5   \n",
      "St. Vincent and the Grenadines 2017-01-01                                  15.8   \n",
      "Sudan                          2017-01-01                                  27.8   \n",
      "Suriname                       2017-01-01                                  97.8   \n",
      "Swaziland                      2017-01-01                                  16.4   \n",
      "Syrian Arab Republic           2017-01-01                                   7.9   \n",
      "Tajikistan                     2017-01-01                                  19.3   \n",
      "Tanzania                       2017-01-01                                  42.9   \n",
      "Thailand                       2017-01-01                                   6.2   \n",
      "Togo                           2017-01-01                                  66.0   \n",
      "Tonga                          2017-01-01                                   7.1   \n",
      "Tunisia                        2017-01-01                                   4.6   \n",
      "Turkey                         2017-01-01                                  12.8   \n",
      "Uganda                         2017-01-01                                  33.6   \n",
      "Ukraine                        2017-01-01                                   0.8   \n",
      "Uzbekistan                     2017-01-01                                   3.1   \n",
      "Vanuatu                        2017-01-01                                  44.4   \n",
      "Venezuela, RB                  2017-01-01                                 351.6   \n",
      "Vietnam                        2017-01-01                                   6.5   \n",
      "West Bank and Gaza             2017-01-01                                  45.1   \n",
      "Yemen, Rep.                    2017-01-01                                  73.5   \n",
      "Zambia                         2017-01-01                                  34.2   \n",
      "Zimbabwe                       2017-01-01                                 110.0   \n",
      "\n",
      "                                           doing_business  \n",
      "country                        date                        \n",
      "Afghanistan                    2017-01-01           183.0  \n",
      "Albania                        2017-01-01            65.0  \n",
      "Algeria                        2017-01-01           166.0  \n",
      "Angola                         2017-01-01           175.0  \n",
      "Argentina                      2017-01-01           117.0  \n",
      "Armenia                        2017-01-01            47.0  \n",
      "Azerbaijan                     2017-01-01            57.0  \n",
      "Bangladesh                     2017-01-01           177.0  \n",
      "Belarus                        2017-01-01            38.0  \n",
      "Belize                         2017-01-01           121.0  \n",
      "Benin                          2017-01-01           151.0  \n",
      "Bhutan                         2017-01-01            75.0  \n",
      "Bolivia                        2017-01-01           152.0  \n",
      "Bosnia and Herzegovina         2017-01-01            86.0  \n",
      "Botswana                       2017-01-01            81.0  \n",
      "Brazil                         2017-01-01           125.0  \n",
      "Bulgaria                       2017-01-01            50.0  \n",
      "Burkina Faso                   2017-01-01           148.0  \n",
      "Burundi                        2017-01-01           164.0  \n",
      "Cambodia                       2017-01-01           135.0  \n",
      "Cameroon                       2017-01-01           163.0  \n",
      "Central African Republic       2017-01-01           184.0  \n",
      "Chad                           2017-01-01           180.0  \n",
      "China                          2017-01-01            78.0  \n",
      "Colombia                       2017-01-01            59.0  \n",
      "Comoros                        2017-01-01           158.0  \n",
      "Congo, Dem. Rep.               2017-01-01           182.0  \n",
      "Congo, Rep.                    2017-01-01           179.0  \n",
      "Costa Rica                     2017-01-01            61.0  \n",
      "Cote d'Ivoire                  2017-01-01           139.0  \n",
      "...                                                   ...  \n",
      "Serbia                         2017-01-01            43.0  \n",
      "Sierra Leone                   2017-01-01           160.0  \n",
      "Solomon Islands                2017-01-01           116.0  \n",
      "Somalia                        2017-01-01           190.0  \n",
      "South Africa                   2017-01-01            82.0  \n",
      "South Sudan                    2017-01-01           187.0  \n",
      "Sri Lanka                      2017-01-01           111.0  \n",
      "St. Lucia                      2017-01-01            91.0  \n",
      "St. Vincent and the Grenadines 2017-01-01           129.0  \n",
      "Sudan                          2017-01-01           170.0  \n",
      "Suriname                       2017-01-01           165.0  \n",
      "Swaziland                      2017-01-01           112.0  \n",
      "Syrian Arab Republic           2017-01-01           174.0  \n",
      "Tajikistan                     2017-01-01           123.0  \n",
      "Tanzania                       2017-01-01           137.0  \n",
      "Thailand                       2017-01-01            26.0  \n",
      "Togo                           2017-01-01           156.0  \n",
      "Tonga                          2017-01-01            89.0  \n",
      "Tunisia                        2017-01-01            88.0  \n",
      "Turkey                         2017-01-01            60.0  \n",
      "Uganda                         2017-01-01           122.0  \n",
      "Ukraine                        2017-01-01            76.0  \n",
      "Uzbekistan                     2017-01-01            74.0  \n",
      "Vanuatu                        2017-01-01            90.0  \n",
      "Venezuela, RB                  2017-01-01           188.0  \n",
      "Vietnam                        2017-01-01            68.0  \n",
      "West Bank and Gaza             2017-01-01           114.0  \n",
      "Yemen, Rep.                    2017-01-01           186.0  \n",
      "Zambia                         2017-01-01            85.0  \n",
      "Zimbabwe                       2017-01-01           159.0  \n",
      "\n",
      "[128 rows x 3 columns]\n"
     ]
    }
   ],
   "source": [
    "countries = [i['id'] for i in wbdata.get_country(incomelevel=[\"LIC\",\"LMC\", \"LMY\"], display=False)]\n",
    "#countries = [i['id'] for i in wbdata.get_country(display=False)]\n",
    "#indicators = {\"IC.BUS.EASE.XQ\": \"doing_business\", \"NY.GDP.PCAP.PP.KD\": \"gdppc\"}\n",
    "indicators = {\"IC.RP.COST\": \"cost_to_register_property\", \"IC.REG.COST.PC.ZS\": \"const_of_business_startup_procedures\", \"IC.BUS.EASE.XQ\":\"doing_business\"}\n",
    "df = wbdata.get_dataframe(indicators, country=countries, convert_date=True)\n",
    "df = df[df.doing_business.notnull() & df.cost_to_register_property.notnull() & df.const_of_business_startup_procedures.notnull()]\n",
    "print(df)"
   ]
  },
  {
   "cell_type": "code",
   "execution_count": 7,
   "metadata": {},
   "outputs": [
    {
     "data": {
      "text/plain": [
       "0.5242184267983511"
      ]
     },
     "execution_count": 7,
     "metadata": {},
     "output_type": "execute_result"
    }
   ],
   "source": [
    "df.const_of_business_startup_procedures.corr(df.doing_business)"
   ]
  },
  {
   "cell_type": "code",
   "execution_count": 68,
   "metadata": {},
   "outputs": [
    {
     "name": "stdout",
     "output_type": "stream",
     "text": [
      "['doing_business', 'gdppc']\n"
     ]
    },
    {
     "data": {
      "text/plain": [
       "(57, 2)"
      ]
     },
     "execution_count": 68,
     "metadata": {},
     "output_type": "execute_result"
    }
   ],
   "source": [
    "print(df.columns.tolist())\n",
    "df.shape\n"
   ]
  },
  {
   "cell_type": "code",
   "execution_count": 8,
   "metadata": {},
   "outputs": [],
   "source": [
    "from sklearn.cluster import KMeans\n",
    "import numpy as np"
   ]
  },
  {
   "cell_type": "code",
   "execution_count": 9,
   "metadata": {},
   "outputs": [
    {
     "data": {
      "text/plain": [
       "array([0, 2, 0, 0, 0, 2, 2, 0, 2, 0, 0, 2, 0, 2, 2, 0, 2, 0, 0, 0, 0, 1,\n",
       "       1, 2, 2, 0, 0, 0, 2, 0, 0, 2, 2, 0, 0, 2, 0, 0, 0, 2, 0, 0, 2, 0,\n",
       "       0, 2, 0, 0, 0, 1, 0, 2, 2, 0, 0, 2, 2, 2, 2, 0, 2, 2, 0, 0, 2, 0,\n",
       "       2, 0, 0, 2, 0, 0, 0, 2, 2, 2, 2, 2, 2, 0, 0, 2, 2, 0, 0, 0, 0, 2,\n",
       "       2, 0, 2, 0, 2, 2, 2, 2, 0, 0, 2, 0, 0, 1, 2, 1, 2, 2, 0, 0, 0, 0,\n",
       "       0, 0, 0, 2, 0, 2, 2, 2, 0, 2, 2, 2, 1, 2, 0, 0, 2, 0])"
      ]
     },
     "execution_count": 9,
     "metadata": {},
     "output_type": "execute_result"
    }
   ],
   "source": [
    "kmeans = KMeans(n_clusters=3, random_state=0).fit(df)\n",
    "kmeans.labels_"
   ]
  },
  {
   "cell_type": "code",
   "execution_count": null,
   "metadata": {},
   "outputs": [],
   "source": []
  },
  {
   "cell_type": "code",
   "execution_count": 86,
   "metadata": {},
   "outputs": [
    {
     "data": {
      "text/plain": [
       "(57, 1)"
      ]
     },
     "execution_count": 86,
     "metadata": {},
     "output_type": "execute_result"
    }
   ],
   "source": [
    "import pandas as pd\n",
    "e_dataframe = pd.DataFrame(kmeans.labels_) \n",
    "e_dataframe.shape\n",
    "\n",
    "#print(pd.DataFrame(df.doing_business,df.gdppc,  e_dataframe))"
   ]
  },
  {
   "cell_type": "code",
   "execution_count": 79,
   "metadata": {},
   "outputs": [],
   "source": [
    "df = df.set_index(e_dataframe.index)\n",
    "df[\"cluster\"] = e_dataframe\n"
   ]
  },
  {
   "cell_type": "code",
   "execution_count": 10,
   "metadata": {},
   "outputs": [],
   "source": [
    "import plotly"
   ]
  },
  {
   "cell_type": "code",
   "execution_count": 12,
   "metadata": {},
   "outputs": [],
   "source": [
    "data = [plotly.graph_objs.Scatter(x=df.doing_business, \n",
    "                                  y=df.const_of_business_startup_procedures, \n",
    "                                  mode='markers',     \n",
    "                                  marker=dict(color=kmeans.labels_)\n",
    "                                  )\n",
    "       ]\n"
   ]
  },
  {
   "cell_type": "code",
   "execution_count": 13,
   "metadata": {
    "scrolled": true
   },
   "outputs": [
    {
     "data": {
      "text/html": [
       "<iframe id=\"igraph\" scrolling=\"no\" style=\"border:none;\" seamless=\"seamless\" src=\"https://plot.ly/~vahyd/60.embed\" height=\"525px\" width=\"100%\"></iframe>"
      ],
      "text/plain": [
       "<plotly.tools.PlotlyDisplay object>"
      ]
     },
     "execution_count": 13,
     "metadata": {},
     "output_type": "execute_result"
    }
   ],
   "source": [
    "plotly.plotly.iplot(data)"
   ]
  }
 ],
 "metadata": {
  "kernelspec": {
   "display_name": "Python 3",
   "language": "python",
   "name": "python3"
  },
  "language_info": {
   "codemirror_mode": {
    "name": "ipython",
    "version": 3
   },
   "file_extension": ".py",
   "mimetype": "text/x-python",
   "name": "python",
   "nbconvert_exporter": "python",
   "pygments_lexer": "ipython3",
   "version": "3.6.4"
  }
 },
 "nbformat": 4,
 "nbformat_minor": 2
}
